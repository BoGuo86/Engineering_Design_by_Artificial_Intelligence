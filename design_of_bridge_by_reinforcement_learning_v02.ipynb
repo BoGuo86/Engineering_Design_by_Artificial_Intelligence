{
 "cells": [
  {
   "cell_type": "markdown",
   "metadata": {},
   "source": [
    "CAUTION: this code has serious memory leaks. To perform training you need at least 4GB RAM (at least 1GB should be free). To have adequate model performance you should to re-run the notebook (training) for at least a couple times, i.e. \"Kernel-Restart&Run All\" for at least several times or you can use pretrained \"pinjointed2.ckpt\" file."
   ]
  },
  {
   "cell_type": "code",
   "execution_count": null,
   "metadata": {},
   "outputs": [],
   "source": []
  },
  {
   "cell_type": "code",
   "execution_count": 1,
   "metadata": {},
   "outputs": [
    {
     "name": "stderr",
     "output_type": "stream",
     "text": [
      "C:\\Anaconda3\\lib\\site-packages\\h5py\\__init__.py:36: FutureWarning: Conversion of the second argument of issubdtype from `float` to `np.floating` is deprecated. In future, it will be treated as `np.float64 == np.dtype(float).type`.\n",
      "  from ._conv import register_converters as _register_converters\n"
     ]
    }
   ],
   "source": [
    "import numpy as np\n",
    "import math\n",
    "import tensorflow as tf\n",
    "from tensorflow.contrib.layers import fully_connected\n",
    "import time\n",
    "import subprocess\n",
    "import random"
   ]
  },
  {
   "cell_type": "code",
   "execution_count": 2,
   "metadata": {},
   "outputs": [],
   "source": [
    "PATH_DAT=\"C:\\\\Temp\\\\brdg.dat\"\n",
    "PATH_RES=\"C:\\\\Temp\\\\brdg.res\""
   ]
  },
  {
   "cell_type": "markdown",
   "metadata": {},
   "source": [
    "## Pre- and post-processing of FE model"
   ]
  },
  {
   "cell_type": "code",
   "execution_count": 3,
   "metadata": {},
   "outputs": [],
   "source": [
    "def read_dat(path):\n",
    "    \n",
    "    # nels - the number of elements\n",
    "    # nn  - total number of nodes in problem\n",
    "    # ndim - number of dimensions\n",
    "    # np_types - number of different property types\n",
    "    # prop - element properties matrix\n",
    "    # g_coord - nodal coordinates\n",
    "    # g_num  - element connectivity\n",
    "    # nr - number of restraints\n",
    "    # nf - nodal freedom array\n",
    "    # loaded_nodes - the number of nodes with forces applied\n",
    "    # loads\n",
    "    # fixed_freedoms - number of fixed freedoms\n",
    "       \n",
    "    f=open(path,\"r\")\n",
    "    nels,nn,ndim,np_types=np.array(f.readline().split()).astype(int)\n",
    "    prop=float(f.readline())\n",
    "    g_coord=[]\n",
    "#     print(math.ceil(nn/3))\n",
    "    for i in range(math.ceil(nn/3)):\n",
    "        g_coord+=f.readline().split()\n",
    "    g_coord=np.array(g_coord).astype(float)\n",
    "    g_num =[]\n",
    "    for i in range(math.ceil(nels/5)):\n",
    "        g_num +=f.readline().split()\n",
    "    g_num =np.array(g_num).astype(int)\n",
    "\n",
    "    nr=int(f.readline())\n",
    "    nf=np.array(f.readline().split()).astype(int)\n",
    "    loaded_nodes =int(f.readline())\n",
    "    loads=np.array(f.readline().split()).astype(float) # loads[0] should be type int\n",
    "    fixed_freedoms=int(f.readline())\n",
    "    f.close()  \n",
    "    return nels,nn,ndim,np_types,prop,g_coord,g_num,nr,nf,loaded_nodes,loads,fixed_freedoms  "
   ]
  },
  {
   "cell_type": "code",
   "execution_count": 4,
   "metadata": {},
   "outputs": [],
   "source": [
    "# nels,nn,ndim,np_types,prop,g_coord,g_num,nr,nf,loaded_nodes,loads,fixed_freedoms =read_dat(PATH_DAT)"
   ]
  },
  {
   "cell_type": "code",
   "execution_count": 5,
   "metadata": {},
   "outputs": [],
   "source": [
    "# g_coord"
   ]
  },
  {
   "cell_type": "code",
   "execution_count": 6,
   "metadata": {},
   "outputs": [],
   "source": [
    "def alter_dat(path, position, action, opt, coord, dx=0.1, change_nodes=[3,4,6,8]):\n",
    "    \n",
    "    nels,nn,ndim,np_types,prop,g_coord,g_num,nr,nf,loaded_nodes,loads,fixed_freedoms=read_dat(path)\n",
    "    \n",
    "    if opt==0:\n",
    "        if action==0:\n",
    "            g_coord[int(2*change_nodes[position]-2)]+=dx\n",
    "        elif action==1:\n",
    "            g_coord[int(2*change_nodes[position]-2)]-=dx\n",
    "        elif action==2:\n",
    "            g_coord=g_coord\n",
    "    elif opt==1:\n",
    "        g_coord=coord\n",
    "        \n",
    "    f=open(path, \"r+\") \n",
    "    all_lines=f.readlines() \n",
    "            \n",
    "    for j in range(len(all_lines)):\n",
    "        all_lines[j]=all_lines[j].rstrip(\"\\n\") \n",
    "        \n",
    "    f.seek(0)\n",
    "    \n",
    "    for i in range(len(all_lines)):\n",
    "        try:\n",
    "            if any(i==x for x in range(2,math.ceil(nn/3)+2)):\n",
    "                f.writelines(\"{} {}  {} {}  {} {}\\n\".format(g_coord[0+(i-2)*6],g_coord[1+(i-2)*6],g_coord[2+(i-2)*6],g_coord[3+(i-2)*6],g_coord[4+(i-2)*6],g_coord[5+(i-2)*6]))\n",
    "            else:\n",
    "                f.writelines(all_lines[i]+\"\\n\")\n",
    "        except IndexError:\n",
    "            print(\"I am here\")\n",
    "            try:\n",
    "                f.writelines(\"{} {}  {} {}  \\n\".format(g_coord[0+(i-2)*6],g_coord[1+(i-2)*6],g_coord[2+(i-2)*6],g_coord[3+(i-2)*6]))\n",
    "            except IndexError:\n",
    "                f.writelines(\"{} {}  \\n\".format(g_coord[0+(i-2)*6],g_coord[1+(i-2)*6]))\n",
    "    f.close()\n",
    "                         \n",
    "    return position, g_coord"
   ]
  },
  {
   "cell_type": "code",
   "execution_count": 7,
   "metadata": {},
   "outputs": [],
   "source": [
    "# position, g_coord= alter_dat(PATH_DAT, 3, 2, 0, np.array([0.0,0.0,2.0,3.0,2.0,0.0,5.0,3.0,7.0,0.0,9.0,3.0,12.0,3.0,12.0,0.0,14.0,0.0]), dx=0.1, change_nodes=[3,4,6,8])"
   ]
  },
  {
   "cell_type": "code",
   "execution_count": 8,
   "metadata": {},
   "outputs": [],
   "source": [
    "# position, g_coord"
   ]
  },
  {
   "cell_type": "code",
   "execution_count": 9,
   "metadata": {},
   "outputs": [],
   "source": [
    "def read_res(path,nn):\n",
    "    f=open(path, \"r\")\n",
    "    all_lines=f.readlines() \n",
    "    f.close()\n",
    "#     print(nn)\n",
    "    A=np.zeros(shape=(nn,2))\n",
    "    for i in range(nn):\n",
    "        A[i][0]=all_lines[i+3].split()[1]\n",
    "        A[i][1]=all_lines[i+3].split()[2]\n",
    "    return A "
   ]
  },
  {
   "cell_type": "code",
   "execution_count": 10,
   "metadata": {},
   "outputs": [],
   "source": [
    "# A=read_res(PATH_RES,9)"
   ]
  },
  {
   "cell_type": "code",
   "execution_count": 11,
   "metadata": {},
   "outputs": [],
   "source": [
    "# A"
   ]
  },
  {
   "cell_type": "code",
   "execution_count": 12,
   "metadata": {},
   "outputs": [],
   "source": [
    "# this function must be tailored to different FE models\n",
    "def observe(position, coord,l1,l2,res):    \n",
    "    return position,coord[4]/l2,coord[6]/l1,coord[10]/l1,coord[14]/l2, res.reshape(res.shape[0]*res.shape[1],)[9]"
   ]
  },
  {
   "cell_type": "markdown",
   "metadata": {},
   "source": [
    "## Finite Element Model of pin-jointed frame structure"
   ]
  },
  {
   "cell_type": "code",
   "execution_count": 13,
   "metadata": {},
   "outputs": [],
   "source": [
    "# FE model is taken from \"Programming the finite element method, I. M. Smith et al, 5th edition\""
   ]
  },
  {
   "cell_type": "code",
   "execution_count": 14,
   "metadata": {},
   "outputs": [],
   "source": [
    "def FEA(path):\n",
    "    target=path.split(\".\")\n",
    "    p=subprocess.Popen(\"C:\\\\Temp\\\\p42.exe {}\".format(target[0]), \\\n",
    "                       stdout=subprocess.PIPE, shell=False, stderr=subprocess.STDOUT)\n",
    "    p.wait()"
   ]
  },
  {
   "cell_type": "markdown",
   "metadata": {},
   "source": [
    "## Neural Network Policy - Policy Gradients"
   ]
  },
  {
   "cell_type": "code",
   "execution_count": 15,
   "metadata": {},
   "outputs": [],
   "source": [
    "# Details of model can be found in the book:\n",
    "# Hands-On Machine Learning with Scikit-Learn & TensorFlow. Aurйlien Gйron"
   ]
  },
  {
   "cell_type": "code",
   "execution_count": 16,
   "metadata": {},
   "outputs": [],
   "source": [
    "# the NN architecture must be tailored to different FE models"
   ]
  },
  {
   "cell_type": "code",
   "execution_count": 17,
   "metadata": {},
   "outputs": [],
   "source": [
    "n_inputs = 6 \n",
    "n_hidden = 50 \n",
    "n_outputs = 3 \n",
    "initializer = tf.contrib.layers.variance_scaling_initializer()\n",
    "\n",
    "learning_rate = 0.001\n",
    "\n",
    "# Build the neural network\n",
    "X_ = tf.placeholder(tf.float64, shape=[None, n_inputs], name=\"X_\")\n",
    "hidden = fully_connected(X_, n_hidden, activation_fn=tf.nn.elu, weights_initializer=initializer)\n",
    "hidden1 = fully_connected(hidden, n_hidden, activation_fn=tf.nn.elu, weights_initializer=initializer)\n",
    "logits = fully_connected(hidden1, n_outputs, activation_fn=None, weights_initializer=initializer)\n",
    "outputs = tf.nn.softmax(logits, name=\"Y_proba\")\n",
    "\n",
    "# Select a random action based on the estimated probabilities\n",
    "action = tf.multinomial(tf.log(outputs), num_samples=1,output_dtype=tf.int32)\n",
    "\n",
    "y=tf.reshape(tf.one_hot(action,depth=3,dtype=tf.float64),[3,1])\n",
    "xentropy = tf.nn.sigmoid_cross_entropy_with_logits(labels=y, logits=tf.transpose(logits))\n",
    "\n",
    "optimizer = tf.train.AdamOptimizer(learning_rate)\n",
    "grads_and_vars = optimizer.compute_gradients(xentropy)\n",
    "gradients = [grad for grad, variable in grads_and_vars]\n",
    "gradient_placeholders = []\n",
    "grads_and_vars_feed = []\n",
    "for grad, variable in grads_and_vars:\n",
    "    gradient_placeholder = tf.placeholder(tf.float64, shape=grad.get_shape())\n",
    "    gradient_placeholders.append(gradient_placeholder)\n",
    "    grads_and_vars_feed.append((gradient_placeholder, variable))\n",
    "\n",
    "training_op = optimizer.apply_gradients(grads_and_vars_feed)\n",
    "\n",
    "init = tf.global_variables_initializer()\n",
    "saver = tf.train.Saver()"
   ]
  },
  {
   "cell_type": "code",
   "execution_count": 18,
   "metadata": {},
   "outputs": [],
   "source": [
    "def discount_rewards(rewards, discount_rate=0.97):\n",
    "    discounted_rewards = np.empty(len(rewards))\n",
    "    cumulative_rewards = 0\n",
    "    for step in reversed(range(len(rewards))):\n",
    "        cumulative_rewards = rewards[step] + cumulative_rewards * discount_rate\n",
    "        discounted_rewards[step] = cumulative_rewards\n",
    "    return discounted_rewards"
   ]
  },
  {
   "cell_type": "code",
   "execution_count": 19,
   "metadata": {},
   "outputs": [],
   "source": [
    "def discount_and_normalize_rewards(all_rewards, discount_rate=0.97):\n",
    "    all_discounted_rewards = [discount_rewards(rewards) for rewards in all_rewards]\n",
    "    flat_rewards = np.concatenate(all_discounted_rewards)\n",
    "    reward_mean = flat_rewards.mean()\n",
    "    reward_std = flat_rewards.std()\n",
    "    return [(discounted_rewards - reward_mean)/reward_std for discounted_rewards in all_discounted_rewards]"
   ]
  },
  {
   "cell_type": "code",
   "execution_count": 20,
   "metadata": {},
   "outputs": [],
   "source": [
    "# this function must be tailored to different FE models\n",
    "\n",
    "def reward_(obs_,obs):   \n",
    "    if abs(obs_[5])>abs(obs[5]):  \n",
    "        return 1\n",
    "    else:\n",
    "        return 0\n"
   ]
  },
  {
   "cell_type": "code",
   "execution_count": 21,
   "metadata": {},
   "outputs": [],
   "source": [
    "# the training code must be tailored to different FE models"
   ]
  },
  {
   "cell_type": "code",
   "execution_count": 22,
   "metadata": {},
   "outputs": [
    {
     "name": "stdout",
     "output_type": "stream",
     "text": [
      "INFO:tensorflow:Restoring parameters from ./policy2/pinjointed2.ckpt\n",
      "Time taken for 0 epoch 974.8577587604523 sec\n",
      "\n",
      "Time taken for 5 epoch 5860.085177659988 sec\n",
      "\n",
      "Time taken for 10 epoch 11748.592981100082 sec\n",
      "\n",
      "Time taken for 15 epoch 18522.683436870575 sec\n",
      "\n",
      "Time taken for 20 epoch 26488.97808289528 sec\n",
      "\n"
     ]
    }
   ],
   "source": [
    "n_iterations =21 #250 # number of training iterations\n",
    "n_max_steps = 300 #1000 # max steps per episode\n",
    "n_games_per_update = 10 # train the policy every 10 episodes\n",
    "save_iterations = 5 # save the model every 10 training iterations\n",
    "\n",
    "\n",
    "with tf.Session() as sess:\n",
    "    start=time.time()\n",
    "    init.run() \n",
    "    \n",
    "    saver.restore(sess, tf.train.latest_checkpoint(\"./policy2/\"))    \n",
    "    tf.get_default_graph()\n",
    "    \n",
    "    for iteration in range(n_iterations):\n",
    "               \n",
    "        all_rewards = [] # all sequences of raw rewards for each episode\n",
    "        all_gradients = [] # gradients saved at each step of each episode\n",
    "             \n",
    "        for game in range(n_games_per_update):\n",
    "            current_rewards = [] # all raw rewards from the current episode\n",
    "            current_gradients = [] # all gradients from the current episode\n",
    "            \n",
    "            pst=random.randint(0,3)\n",
    "            position, g_coord= alter_dat(PATH_DAT, pst, 4, 1, np.array([0.0,0.0,2.0,3.0,2.0,0.0,5.0,3.0,7.0,0.0,9.0,3.0,12.0,3.0,12.0,0.0,14.0,0.0]),\n",
    "                                          dx=0.1, change_nodes=[3,4,6,8])\n",
    "            FEA(PATH_DAT)\n",
    "            res=read_res(PATH_RES,len(g_coord)//2)\n",
    "            obs=observe(position,g_coord,10,14,res)\n",
    "            \n",
    "            for step in range(n_max_steps):\n",
    "                action_val, gradients_val = sess.run([action, gradients],\n",
    "                                                     feed_dict={X_: np.array(obs).reshape(1,n_inputs)}) \n",
    "                obs_=obs\n",
    "                position, g_coord= alter_dat(PATH_DAT, position, action_val[0][0], 0, np.array([]),\n",
    "                                          dx=0.1, change_nodes=[3,4,6,8])\n",
    "                \n",
    "                position=random.randint(0,3)\n",
    "                \n",
    "                if g_coord[4]<g_coord[0]+0.2 or g_coord[4]>g_coord[8]-0.2:\n",
    "                    break\n",
    "                \n",
    "                if g_coord[6]<g_coord[2]+0.2 or g_coord[6]>g_coord[12]-0.2:\n",
    "                    break\n",
    "                    \n",
    "                if g_coord[10]<g_coord[2]+0.2 or g_coord[10]>g_coord[12]-0.2:\n",
    "                    break\n",
    "                    \n",
    "                if g_coord[14]<g_coord[8]+0.2 or g_coord[14]>g_coord[16]-0.2:\n",
    "                    break    \n",
    "                    \n",
    "                FEA(PATH_DAT)\n",
    "                res=read_res(PATH_RES,len(g_coord)//2)\n",
    "                obs=observe(position,g_coord,10,14,res)               \n",
    "                reward=reward_(obs_,obs)\n",
    "                \n",
    "                current_rewards.append(reward)\n",
    "                current_gradients.append(gradients_val)\n",
    "\n",
    "            all_rewards.append(current_rewards)\n",
    "            all_gradients.append(current_gradients)\n",
    "\n",
    "    \n",
    "            \n",
    "        # At this point we have run the policy for 10 episodes, and we are\n",
    "        # ready for a policy update using the algorithm described earlier.\n",
    "        all_rewards = discount_and_normalize_rewards(all_rewards)\n",
    "        \n",
    "        \n",
    "        \n",
    "        feed_dict = {}\n",
    "        for var_index, grad_placeholder in enumerate(gradient_placeholders):\n",
    "            # multiply the gradients by the action scores, and compute the mean\n",
    "            mean_gradients = np.mean([reward * all_gradients[game_index][step][var_index] \n",
    "                                      for game_index, rewards in enumerate(all_rewards)\n",
    "                                      for step, reward in enumerate(rewards)],axis=0)\n",
    "            feed_dict[grad_placeholder] = mean_gradients\n",
    "        \n",
    "        \n",
    "        sess.run(training_op, feed_dict=feed_dict)\n",
    "        \n",
    "        if iteration % save_iterations == 0:\n",
    "#             print(\"Saving {} iteration\".format(iteration))\n",
    "            print('Time taken for {} epoch {} sec\\n'.format(iteration, time.time() - start))\n",
    "            saver.save(sess, \"./policy2/pinjointed2.ckpt\")\n",
    "\n",
    "# end=time.time()            "
   ]
  },
  {
   "cell_type": "code",
   "execution_count": 23,
   "metadata": {},
   "outputs": [],
   "source": [
    "# print(end-start)"
   ]
  },
  {
   "cell_type": "markdown",
   "metadata": {},
   "source": [
    "## AI designing the bridge"
   ]
  },
  {
   "cell_type": "code",
   "execution_count": 24,
   "metadata": {},
   "outputs": [],
   "source": [
    "def predict(path,path1,l1,l2,coord=np.array([0.0,0.0,2.0,3.0,2.0,0.0,5.0,3.0,7.0,0.0,9.0,3.0,12.0,3.0,12.0,0.0,14.0,0.0])):\n",
    "    with tf.Session() as sess:\n",
    "        saver = tf.train.import_meta_graph('./policy2/pinjointed2.ckpt.meta')\n",
    "        saver.restore(sess, \"./policy2/pinjointed2.ckpt\") \n",
    "\n",
    "        graph = tf.get_default_graph()\n",
    "        outputs = graph.get_tensor_by_name(\"Y_proba:0\") \n",
    "        X_ = graph.get_tensor_by_name(\"X_:0\") \n",
    "                \n",
    "        pst=random.randint(0,3)\n",
    "        position, g_coord= alter_dat(path, pst, 4, 1, coord,\n",
    "                                      dx=0.1, change_nodes=[3,4,6,8])\n",
    "        FEA(PATH_DAT)\n",
    "        res=read_res(path1,len(g_coord)//2)\n",
    "        obs=observe(position,g_coord,10,14,res)\n",
    "        \n",
    "        \n",
    "        \n",
    "        \n",
    "        for step in range(50):\n",
    "            action_val= sess.run([outputs],feed_dict={X_: np.array(obs).reshape(1,n_inputs)})\n",
    "            position, g_coord= alter_dat(path, position, np.argmax(action_val), 0, np.array([]),\n",
    "                                      dx=0.1, change_nodes=[3,4,6,8])\n",
    "        \n",
    "            position=random.randint(0,3)\n",
    "            \n",
    "            if g_coord[4]<g_coord[0]+0.2 or g_coord[4]>g_coord[8]-0.2:\n",
    "                break\n",
    "\n",
    "            if g_coord[6]<g_coord[2]+0.2 or g_coord[6]>g_coord[12]-0.2:\n",
    "                break\n",
    "\n",
    "            if g_coord[10]<g_coord[2]+0.2 or g_coord[10]>g_coord[12]-0.2:\n",
    "                break\n",
    "\n",
    "            if g_coord[14]<g_coord[8]+0.2 or g_coord[14]>g_coord[16]-0.2:\n",
    "                break    \n",
    "\n",
    "            FEA(path)\n",
    "            res=read_res(path1,len(g_coord)//2)\n",
    "            obs=observe(position,g_coord,l1,l2,res)\n",
    "        \n",
    "        return obs        "
   ]
  },
  {
   "cell_type": "code",
   "execution_count": 25,
   "metadata": {},
   "outputs": [
    {
     "name": "stdout",
     "output_type": "stream",
     "text": [
      "INFO:tensorflow:Restoring parameters from ./policy2/pinjointed2.ckpt\n"
     ]
    },
    {
     "data": {
      "text/plain": [
       "(1,\n",
       " 0.2785714285714287,\n",
       " 0.5599999999999998,\n",
       " 0.7700000000000005,\n",
       " 0.7714285714285717,\n",
       " -0.0008572)"
      ]
     },
     "execution_count": 25,
     "metadata": {},
     "output_type": "execute_result"
    }
   ],
   "source": [
    "predict(PATH_DAT,PATH_RES,10,14)"
   ]
  },
  {
   "cell_type": "code",
   "execution_count": 29,
   "metadata": {},
   "outputs": [
    {
     "data": {
      "text/plain": [
       "-0.0008888"
      ]
     },
     "execution_count": 29,
     "metadata": {},
     "output_type": "execute_result"
    }
   ],
   "source": [
    "# Benchmark from initial design:\n",
    "-0.8888E-03"
   ]
  },
  {
   "cell_type": "code",
   "execution_count": 27,
   "metadata": {},
   "outputs": [],
   "source": [
    "nels,nn,ndim,np_types,prop,g_coord,g_num,nr,nf,loaded_nodes,loads,fixed_freedoms =read_dat(PATH_DAT)"
   ]
  },
  {
   "cell_type": "code",
   "execution_count": 28,
   "metadata": {},
   "outputs": [
    {
     "data": {
      "text/plain": [
       "array([[ 0. ,  0. ],\n",
       "       [ 2. ,  3. ],\n",
       "       [ 3.9,  0. ],\n",
       "       [ 5.6,  3. ],\n",
       "       [ 7. ,  0. ],\n",
       "       [ 7.7,  3. ],\n",
       "       [12. ,  3. ],\n",
       "       [10.8,  0. ],\n",
       "       [14. ,  0. ]])"
      ]
     },
     "execution_count": 28,
     "metadata": {},
     "output_type": "execute_result"
    }
   ],
   "source": [
    "g_coord.reshape(nn,2)"
   ]
  },
  {
   "cell_type": "markdown",
   "metadata": {},
   "source": [
    "![title](./Bridge.png \"ShowMyImage\")"
   ]
  },
  {
   "cell_type": "code",
   "execution_count": null,
   "metadata": {},
   "outputs": [],
   "source": []
  }
 ],
 "metadata": {
  "kernelspec": {
   "display_name": "Python 3",
   "language": "python",
   "name": "python3"
  },
  "language_info": {
   "codemirror_mode": {
    "name": "ipython",
    "version": 3
   },
   "file_extension": ".py",
   "mimetype": "text/x-python",
   "name": "python",
   "nbconvert_exporter": "python",
   "pygments_lexer": "ipython3",
   "version": "3.6.5"
  }
 },
 "nbformat": 4,
 "nbformat_minor": 2
}
