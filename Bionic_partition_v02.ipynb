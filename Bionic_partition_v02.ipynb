{
 "cells": [
  {
   "cell_type": "code",
   "execution_count": 1,
   "metadata": {},
   "outputs": [],
   "source": [
    "import numpy as np\n",
    "import math\n",
    "import tensorflow as tf\n",
    "from tensorflow.contrib.layers import fully_connected\n",
    "import time\n",
    "import random\n",
    "import matplotlib.pyplot as plt\n",
    "import heapq\n",
    "from mpl_toolkits.mplot3d import Axes3D"
   ]
  },
  {
   "cell_type": "code",
   "execution_count": 2,
   "metadata": {},
   "outputs": [
    {
     "data": {
      "text/plain": [
       "'1.12.0'"
      ]
     },
     "execution_count": 2,
     "metadata": {},
     "output_type": "execute_result"
    }
   ],
   "source": [
    "tf.VERSION"
   ]
  },
  {
   "cell_type": "code",
   "execution_count": 3,
   "metadata": {
    "collapsed": true
   },
   "outputs": [],
   "source": [
    "%matplotlib inline"
   ]
  },
  {
   "cell_type": "markdown",
   "metadata": {},
   "source": [
    "## Finite Element Model of the Space Frame Element"
   ]
  },
  {
   "cell_type": "code",
   "execution_count": 4,
   "metadata": {
    "collapsed": true
   },
   "outputs": [],
   "source": [
    "def PlaneTrussElementLength(x1,y1,z1,x2,y2,z2):\n",
    "    return math.sqrt((x2-x1)*(x2-x1) + (y2-y1)*(y2-y1)+(z2-z1)*(z2-z1))"
   ]
  },
  {
   "cell_type": "code",
   "execution_count": 5,
   "metadata": {
    "collapsed": true
   },
   "outputs": [],
   "source": [
    "def SpaceFrameElementStiffness(E,G,A,Iy,Iz,J,x1,y1,z1,x2,y2,z2):\n",
    "    L = PlaneTrussElementLength(x1,y1,z1,x2,y2,z2)\n",
    "    w1 = E*A/L\n",
    "    w2 = 12*E*Iz/(L*L*L)\n",
    "    w3 = 6*E*Iz/(L*L)\n",
    "    w4 = 4*E*Iz/L\n",
    "    w5 = 2*E*Iz/L\n",
    "    w6 = 12*E*Iy/(L*L*L)\n",
    "    w7 = 6*E*Iy/(L*L)\n",
    "    w8 = 4*E*Iy/L\n",
    "    w9 = 2*E*Iy/L\n",
    "    w10 = G*J/L\n",
    "    \n",
    "    kprime = np.array([[w1, 0, 0, 0, 0, 0, -w1, 0, 0, 0, 0, 0],\n",
    "                        [0, w2, 0, 0, 0, w3, 0, -w2, 0, 0, 0, w3], \n",
    "                        [0, 0, w6, 0, -w7, 0, 0, 0, -w6, 0, -w7, 0],\n",
    "                        [0, 0, 0, w10, 0, 0, 0, 0, 0, -w10, 0, 0],\n",
    "                        [0, 0, -w7, 0, w8, 0, 0, 0, w7, 0, w9, 0],\n",
    "                        [0, w3, 0, 0, 0, w4, 0, -w3, 0, 0, 0, w5],\n",
    "                        [-w1, 0, 0, 0, 0, 0, w1, 0, 0, 0, 0, 0],\n",
    "                        [0, -w2, 0, 0, 0, -w3, 0, w2, 0, 0, 0, -w3],\n",
    "                        [0, 0, -w6, 0, w7, 0, 0, 0, w6, 0, w7, 0],\n",
    "                        [0, 0, 0, -w10, 0, 0, 0, 0, 0, w10, 0, 0],\n",
    "                        [0, 0, -w7, 0, w9, 0, 0, 0, w7, 0, w8, 0],\n",
    "                        [0, w3, 0, 0, 0, w5, 0, -w3, 0, 0, 0, w4]])  \n",
    "    \n",
    "    \n",
    "    if x1 == x2 and y1 == y2:\n",
    "        if z2 > z1:\n",
    "            Lambda = np.array([[0, 0, 1], [0, 1, 0], [-1, 0, 0]])\n",
    "        else:\n",
    "            Lambda = np.array([[0, 0, -1], [0, 1, 0], [1, 0, 0]])\n",
    "    else:\n",
    "        CXx = (x2-x1)/L\n",
    "        CYx = (y2-y1)/L\n",
    "        CZx = (z2-z1)/L\n",
    "        D = math.sqrt(CXx*CXx + CYx*CYx)\n",
    "        CXy = -CYx/D\n",
    "        CYy = CXx/D\n",
    "        CZy = 0\n",
    "        CXz = -CXx*CZx/D\n",
    "        CYz = -CYx*CZx/D\n",
    "        CZz = D\n",
    "        Lambda = np.array([[CXx, CYx, CZx], [CXy, CYy, CZy], [CXz, CYz, CZz]])\n",
    "        \n",
    "        \n",
    "    R = np.array([np.concatenate((np.concatenate((Lambda,np.zeros((3,3)),np.zeros((3,3)),np.zeros((3,3))),axis=1),\n",
    "        np.concatenate((np.zeros((3,3)), Lambda, np.zeros((3,3)), np.zeros((3,3))),axis=1) ,\n",
    "        np.concatenate((np.zeros((3,3)), np.zeros((3,3)), Lambda, np.zeros((3,3))),axis=1), \n",
    "        np.concatenate((np.zeros((3,3)), np.zeros((3,3)), np.zeros((3,3)), Lambda),axis=1)))])[0]\n",
    "    return np.dot(np.dot(R.T,kprime),R)           "
   ]
  },
  {
   "cell_type": "code",
   "execution_count": 6,
   "metadata": {
    "collapsed": true
   },
   "outputs": [],
   "source": [
    "def SpaceFrameAssemble(K,k,i,j):\n",
    "    K[6*i,6*i] = K[6*i,6*i] + k[0,0]\n",
    "    K[6*i,6*i+1] = K[6*i,6*i+1] + k[0,1]\n",
    "    K[6*i,6*i+2] = K[6*i,6*i+2] + k[0,2]\n",
    "    K[6*i,6*i+3] = K[6*i,6*i+3] + k[0,3]\n",
    "    K[6*i,6*i+4] = K[6*i,6*i+4] + k[0,4]\n",
    "    K[6*i,6*i+5] = K[6*i,6*i+5] + k[0,5]\n",
    "    K[6*i,6*j] = K[6*i,6*j] + k[0,6]\n",
    "    K[6*i,6*j+1] = K[6*i,6*j+1] + k[0,7]\n",
    "    K[6*i,6*j+2] = K[6*i,6*j+2] + k[0,8]\n",
    "    K[6*i,6*j+3] = K[6*i,6*j+3] + k[0,9]\n",
    "    K[6*i,6*j+4] = K[6*i,6*j+4] + k[0,10]\n",
    "    K[6*i,6*j+5] = K[6*i,6*j+5] + k[0,11]\n",
    "    K[6*i+1,6*i] = K[6*i+1,6*i] + k[1,0]\n",
    "    K[6*i+1,6*i+1] = K[6*i+1,6*i+1] + k[1,1]\n",
    "    K[6*i+1,6*i+2] = K[6*i+1,6*i+2] + k[1,2]\n",
    "    K[6*i+1,6*i+3] = K[6*i+1,6*i+3] + k[1,3]\n",
    "    K[6*i+1,6*i+4] = K[6*i+1,6*i+4] + k[1,4]\n",
    "    K[6*i+1,6*i+5] = K[6*i+1,6*i+5] + k[1,5]\n",
    "    K[6*i+1,6*j] = K[6*i+1,6*j] + k[1,6]\n",
    "    K[6*i+1,6*j+1] = K[6*i+1,6*j+1] + k[1,7]\n",
    "    K[6*i+1,6*j+2] = K[6*i+1,6*j+2] + k[1,8]\n",
    "    K[6*i+1,6*j+3] = K[6*i+1,6*j+3] + k[1,9]\n",
    "    K[6*i+1,6*j+4] = K[6*i+1,6*j+4] + k[1,10]\n",
    "    K[6*i+1,6*j+5] = K[6*i+1,6*j+5] + k[1,11]\n",
    "    K[6*i+2,6*i]   = K[6*i+2,6*i] + k[2,0]\n",
    "    K[6*i+2,6*i+1] = K[6*i+2,6*i+1] + k[2,1]\n",
    "    K[6*i+2,6*i+2] = K[6*i+2,6*i+2] + k[2,2]\n",
    "    K[6*i+2,6*i+3] = K[6*i+2,6*i+3] + k[2,3]\n",
    "    K[6*i+2,6*i+4] = K[6*i+2,6*i+4] + k[2,4]\n",
    "    K[6*i+2,6*i+5] = K[6*i+2,6*i+5] + k[2,5]\n",
    "    K[6*i+2,6*j]   = K[6*i+2,6*j] + k[2,6]\n",
    "    K[6*i+2,6*j+1] = K[6*i+2,6*j+1] + k[2,7]\n",
    "    K[6*i+2,6*j+2] = K[6*i+2,6*j+2] + k[2,8]\n",
    "    K[6*i+2,6*j+3] = K[6*i+2,6*j+3] + k[2,9]\n",
    "    K[6*i+2,6*j+4] = K[6*i+2,6*j+4] + k[2,10]\n",
    "    K[6*i+2,6*j+5] = K[6*i+2,6*j+5] + k[2,11]\n",
    "    K[6*i+3,6*i] = K[6*i+3,6*i] + k[3,0]\n",
    "    K[6*i+3,6*i+1] = K[6*i+3,6*i+1] + k[3,1]\n",
    "    K[6*i+3,6*i+2] = K[6*i+3,6*i+2] + k[3,2]\n",
    "    K[6*i+3,6*i+3] = K[6*i+3,6*i+3] + k[3,3]\n",
    "    K[6*i+3,6*i+4] = K[6*i+3,6*i+4] + k[3,4]\n",
    "    K[6*i+3,6*i+5] = K[6*i+3,6*i+5] + k[3,5]\n",
    "    K[6*i+3,6*j] = K[6*i+3,6*j] + k[3,6]\n",
    "    K[6*i+3,6*j+1] = K[6*i+3,6*j+1] + k[3,7]\n",
    "    K[6*i+3,6*j+2] = K[6*i+3,6*j+2] + k[3,8]    \n",
    "    K[6*i+3,6*j+3] = K[6*i+3,6*j+3] + k[3,9]\n",
    "    K[6*i+3,6*j+4] = K[6*i+3,6*j+4] + k[3,10]\n",
    "    K[6*i+3,6*j+5] = K[6*i+3,6*j+5] + k[3,11]\n",
    "    K[6*i+4,6*i] = K[6*i+4,6*i] + k[4,0]\n",
    "    K[6*i+4,6*i+1] = K[6*i+4,6*i+1] + k[4,1]\n",
    "    K[6*i+4,6*i+2] = K[6*i+4,6*i+2] + k[4,2]\n",
    "    K[6*i+4,6*i+3] = K[6*i+4,6*i+3] + k[4,3]\n",
    "    K[6*i+4,6*i+4] = K[6*i+4,6*i+4] + k[4,4]\n",
    "    K[6*i+4,6*i+5] = K[6*i+4,6*i+5] + k[4,5]\n",
    "    K[6*i+4,6*j] = K[6*i+4,6*j] + k[4,6]\n",
    "    K[6*i+4,6*j+1] = K[6*i+4,6*j+1] + k[4,7]\n",
    "    K[6*i+4,6*j+2] = K[6*i+4,6*j+2] + k[4,8]\n",
    "    K[6*i+4,6*j+3] = K[6*i+4,6*j+3] + k[4,9]\n",
    "    K[6*i+4,6*j+4] = K[6*i+4,6*j+4] + k[4,10]\n",
    "    K[6*i+4,6*j+5] = K[6*i+4,6*j+5] + k[4,11]\n",
    "    K[6*i+5,6*i] = K[6*i+5,6*i] + k[5,0]\n",
    "    K[6*i+5,6*i+1] = K[6*i+5,6*i+1] + k[5,1]\n",
    "    K[6*i+5,6*i+2] = K[6*i+5,6*i+2] + k[5,2]\n",
    "    K[6*i+5,6*i+3] = K[6*i+5,6*i+3] + k[5,3]\n",
    "    K[6*i+5,6*i+4] = K[6*i+5,6*i+4] + k[5,4]\n",
    "    K[6*i+5,6*i+5] = K[6*i+5,6*i+5] + k[5,5]\n",
    "    K[6*i+5,6*j] = K[6*i+5,6*j] + k[5,6]\n",
    "    K[6*i+5,6*j+1] = K[6*i+5,6*j+1] + k[5,7]\n",
    "    K[6*i+5,6*j+2] = K[6*i+5,6*j+2] + k[5,8]\n",
    "    K[6*i+5,6*j+3] = K[6*i+5,6*j+3] + k[5,9]\n",
    "    K[6*i+5,6*j+4] = K[6*i+5,6*j+4] + k[5,10]\n",
    "    K[6*i+5,6*j+5] = K[6*i+5,6*j+5] + k[5,11]\n",
    "    K[6*j,6*i] = K[6*j,6*i] + k[6,0]\n",
    "    K[6*j,6*i+1] = K[6*j,6*i+1] + k[6,1]\n",
    "    K[6*j,6*i+2] = K[6*j,6*i+2] + k[6,2]\n",
    "    K[6*j,6*i+3] = K[6*j,6*i+3] + k[6,3]\n",
    "    K[6*j,6*i+4] = K[6*j,6*i+4] + k[6,4]\n",
    "    K[6*j,6*i+5] = K[6*j,6*i+5] + k[6,5]\n",
    "    K[6*j,6*j] = K[6*j,6*j] + k[6,6]\n",
    "    K[6*j,6*j+1] = K[6*j,6*j+1] + k[6,7]\n",
    "    K[6*j,6*j+2] = K[6*j,6*j+2] + k[6,8]\n",
    "    K[6*j,6*j+3] = K[6*j,6*j+3] + k[6,9]\n",
    "    K[6*j,6*j+4] = K[6*j,6*j+4] + k[6,10]\n",
    "    K[6*j,6*j+5] = K[6*j,6*j+5] + k[6,11]\n",
    "    K[6*j+1,6*i] = K[6*j+1,6*i] + k[7,0]\n",
    "    K[6*j+1,6*i+1] = K[6*j+1,6*i+1] + k[7,1]\n",
    "    K[6*j+1,6*i+2] = K[6*j+1,6*i+2] + k[7,2]\n",
    "    K[6*j+1,6*i+3] = K[6*j+1,6*i+3] + k[7,3]\n",
    "    K[6*j+1,6*i+4] = K[6*j+1,6*i+4] + k[7,4]\n",
    "    K[6*j+1,6*i+5] = K[6*j+1,6*i+5] + k[7,5]\n",
    "    K[6*j+1,6*j] = K[6*j+1,6*j] + k[7,6]\n",
    "    K[6*j+1,6*j+1] = K[6*j+1,6*j+1] + k[7,7]\n",
    "    K[6*j+1,6*j+2] = K[6*j+1,6*j+2] + k[7,8]\n",
    "    K[6*j+1,6*j+3] = K[6*j+1,6*j+3] + k[7,9]\n",
    "    K[6*j+1,6*j+4] = K[6*j+1,6*j+4] + k[7,10]\n",
    "    K[6*j+1,6*j+5] = K[6*j+1,6*j+5] + k[7,11]\n",
    "    K[6*j+2,6*i] = K[6*j+2,6*i] + k[8,0]\n",
    "    K[6*j+2,6*i+1] = K[6*j+2,6*i+1] + k[8,1]\n",
    "    K[6*j+2,6*i+2] = K[6*j+2,6*i+2] + k[8,2]\n",
    "    K[6*j+2,6*i+3] = K[6*j+2,6*i+3] + k[8,3]\n",
    "    K[6*j+2,6*i+4] = K[6*j+2,6*i+4] + k[8,4]\n",
    "    K[6*j+2,6*i+5] = K[6*j+2,6*i+5] + k[8,5]\n",
    "    K[6*j+2,6*j] = K[6*j+2,6*j] + k[8,6]\n",
    "    K[6*j+2,6*j+1] = K[6*j+2,6*j+1] + k[8,7]\n",
    "    K[6*j+2,6*j+2] = K[6*j+2,6*j+2] + k[8,8]\n",
    "    K[6*j+2,6*j+3] = K[6*j+2,6*j+3] + k[8,9]\n",
    "    K[6*j+2,6*j+4] = K[6*j+2,6*j+4] + k[8,10]\n",
    "    K[6*j+2,6*j+5] = K[6*j+2,6*j+5] + k[8,11]\n",
    "    K[6*j+3,6*i] = K[6*j+3,6*i] + k[9,0]\n",
    "    K[6*j+3,6*i+1] = K[6*j+3,6*i+1] + k[9,1]\n",
    "    K[6*j+3,6*i+2] = K[6*j+3,6*i+2] + k[9,2]\n",
    "    K[6*j+3,6*i+3] = K[6*j+3,6*i+3] + k[9,3]\n",
    "    K[6*j+3,6*i+4] = K[6*j+3,6*i+4] + k[9,4]\n",
    "    K[6*j+3,6*i+5] = K[6*j+3,6*i+5] + k[9,5]\n",
    "    K[6*j+3,6*j] = K[6*j+3,6*j] + k[9,6]\n",
    "    K[6*j+3,6*j+1] = K[6*j+3,6*j+1] + k[9,7]\n",
    "    K[6*j+3,6*j+2] = K[6*j+3,6*j+2] + k[9,8]\n",
    "    K[6*j+3,6*j+3] = K[6*j+3,6*j+3] + k[9,9]\n",
    "    K[6*j+3,6*j+4] = K[6*j+3,6*j+4] + k[9,10]\n",
    "    K[6*j+3,6*j+5] = K[6*j+3,6*j+5] + k[9,11]\n",
    "    K[6*j+4,6*i] = K[6*j+4,6*i] + k[10,0]\n",
    "    K[6*j+4,6*i+1] = K[6*j+4,6*i+1] + k[10,1]\n",
    "    K[6*j+4,6*i+2] = K[6*j+4,6*i+2] + k[10,2]\n",
    "    K[6*j+4,6*i+3] = K[6*j+4,6*i+3] + k[10,3]\n",
    "    K[6*j+4,6*i+4] = K[6*j+4,6*i+4] + k[10,4]\n",
    "    K[6*j+4,6*i+5] = K[6*j+4,6*i+5] + k[10,5]\n",
    "    K[6*j+4,6*j] = K[6*j+4,6*j] + k[10,6]\n",
    "    K[6*j+4,6*j+1] = K[6*j+4,6*j+1] + k[10,7]\n",
    "    K[6*j+4,6*j+2] = K[6*j+4,6*j+2] + k[10,8]\n",
    "    K[6*j+4,6*j+3] = K[6*j+4,6*j+3] + k[10,9]\n",
    "    K[6*j+4,6*j+4] = K[6*j+4,6*j+4] + k[10,10]\n",
    "    K[6*j+4,6*j+5] = K[6*j+4,6*j+5] + k[10,11]\n",
    "    K[6*j+5,6*i] = K[6*j+5,6*i] + k[11,0]\n",
    "    K[6*j+5,6*i+1] = K[6*j+5,6*i+1] + k[11,1]\n",
    "    K[6*j+5,6*i+2] = K[6*j+5,6*i+2] + k[11,2]\n",
    "    K[6*j+5,6*i+3] = K[6*j+5,6*i+3] + k[11,3]\n",
    "    K[6*j+5,6*i+4] = K[6*j+5,6*i+4] + k[11,4]\n",
    "    K[6*j+5,6*i+5] = K[6*j+5,6*i+5] + k[11,5]\n",
    "    K[6*j+5,6*j] = K[6*j+5,6*j] + k[11,6]\n",
    "    K[6*j+5,6*j+1] = K[6*j+5,6*j+1] + k[11,7]\n",
    "    K[6*j+5,6*j+2] = K[6*j+5,6*j+2] + k[11,8]\n",
    "    K[6*j+5,6*j+3] = K[6*j+5,6*j+3] + k[11,9]\n",
    "    K[6*j+5,6*j+4] = K[6*j+5,6*j+4] + k[11,10]\n",
    "    K[6*j+5,6*j+5] = K[6*j+5,6*j+5] + k[11,11]\n",
    "    \n",
    "    return K"
   ]
  },
  {
   "cell_type": "code",
   "execution_count": 7,
   "metadata": {
    "collapsed": true
   },
   "outputs": [],
   "source": [
    "def FEA_u(coord, elcon, bc_u_elim, f_after_u_elim, E=210e6,G=84e6,A=2e-2,Iy=10e-5,Iz=20e-5,J=5e-5):\n",
    "    K=np.zeros(shape=(6*(np.max(elcon)+1),6*(np.max(elcon)+1)))\n",
    "    for el in elcon:\n",
    "        k=SpaceFrameElementStiffness(E,G,A,Iy,Iz,J,coord[el[0]][0],coord[el[0]][1],coord[el[0]][2],\\\n",
    "                                     coord[el[1]][0],coord[el[1]][1],coord[el[1]][2])\n",
    "        K=SpaceFrameAssemble(K,k,el[0],el[1])\n",
    "        \n",
    "    K=np.delete(K,bc_u_elim,0)\n",
    "    K=np.delete(K,bc_u_elim,1)    \n",
    "    d=np.dot(np.linalg.inv(K),f_after_u_elim)        \n",
    "    u=np.zeros(shape=(6*len(coord)))\n",
    "\n",
    "    j=0\n",
    "    for i in range(len(u)):\n",
    "        if i not in bc_u_elim:\n",
    "            u[i]=d[j]\n",
    "            j+=1\n",
    "            if j>len(d)-1:\n",
    "                break\n",
    "    return u"
   ]
  },
  {
   "cell_type": "markdown",
   "metadata": {},
   "source": [
    "## Utils"
   ]
  },
  {
   "cell_type": "code",
   "execution_count": 8,
   "metadata": {
    "collapsed": true
   },
   "outputs": [],
   "source": [
    "def total_length(coord,elcon):\n",
    "    t_length=0\n",
    "    for i in range(len(elcon)):\n",
    "        l=PlaneTrussElementLength(coord[elcon[i][0]][0],\\\n",
    "                                    coord[elcon[i][0]][1],\\\n",
    "                                    coord[elcon[i][0]][2],\\\n",
    "                                    coord[elcon[i][1]][0],\\\n",
    "                                    coord[elcon[i][1]][1],\\\n",
    "                                    coord[elcon[i][1]][2])\n",
    "        t_length+=l        \n",
    "    return t_length    "
   ]
  },
  {
   "cell_type": "code",
   "execution_count": 9,
   "metadata": {
    "collapsed": true
   },
   "outputs": [],
   "source": [
    "def pad(l, content, width):\n",
    "    l.extend([content] * (width - len(l)))\n",
    "    return l"
   ]
  },
  {
   "cell_type": "code",
   "execution_count": 10,
   "metadata": {
    "collapsed": true
   },
   "outputs": [],
   "source": [
    "def triangle(elcon):\n",
    "    c=random.randint(0,np.max(elcon))\n",
    "\n",
    "    T=[]\n",
    "    for i in range(len(elcon)):\n",
    "        if np.any(np.not_equal(elcon[i],elcon[c])) and elcon[c][1] in elcon[i]:\n",
    "            T+=list(elcon[i])  \n",
    "            \n",
    "    T=set(T)\n",
    "    T=list(T)\n",
    "    \n",
    "    for j in range(len(T)):\n",
    "        if ([elcon[c][0],T[j]] in elcon.tolist() or [T[j],elcon[c][0]] in elcon.tolist()) \\\n",
    "                        and  np.any(np.not_equal(np.array([elcon[c][0],T[j]]),elcon[c])):\n",
    "            return [elcon[c][0],elcon[c][1],T[j]]"
   ]
  },
  {
   "cell_type": "code",
   "execution_count": 11,
   "metadata": {
    "collapsed": true
   },
   "outputs": [],
   "source": [
    "def mid_point_triangle(tr_edges,coord):\n",
    "    ox=(coord[tr_edges[0]][0]+coord[tr_edges[1]][0]+coord[tr_edges[2]][0])/3\n",
    "    oy=(coord[tr_edges[0]][1]+coord[tr_edges[1]][1]+coord[tr_edges[2]][1])/3\n",
    "    oz=0\n",
    "    return list((ox,oy,oz))"
   ]
  },
  {
   "cell_type": "code",
   "execution_count": 12,
   "metadata": {
    "collapsed": true
   },
   "outputs": [],
   "source": [
    "def new_connections(tr_edges,coord):  \n",
    "    K=tr_edges    \n",
    "    return [[len(coord),K[0]],[len(coord),K[1]],[len(coord),K[2]]]"
   ]
  },
  {
   "cell_type": "markdown",
   "metadata": {},
   "source": [
    "## Geometry"
   ]
  },
  {
   "cell_type": "code",
   "execution_count": 13,
   "metadata": {
    "collapsed": true
   },
   "outputs": [],
   "source": [
    "class Geometry:\n",
    "    def __init__(self,coord,elcon,bc_u_elim,f_after_u_elim,\\\n",
    "                 E=210e6,G=84e6,A=2e-2,Iy=10e-5,Iz=20e-5,J=5e-5,flag=False,position=5):\n",
    "        self.coord=coord.reshape(len(coord)//3,3)\n",
    "        self.elcon=elcon\n",
    "        self.bc_u_elim=bc_u_elim\n",
    "        self.f_after_u_elim=f_after_u_elim\n",
    "        self.E=E\n",
    "        self.G=G\n",
    "        self.A=A\n",
    "        self.Iy=Iy\n",
    "        self.Iz=Iz\n",
    "        self.J=J\n",
    "        self.flag=flag\n",
    "        self.position=position\n",
    "        \n",
    "    def reset(self, coord,elcon,bc_u_elim,f_after_u_elim,\\\n",
    "                 E=210e6,G=84e6,A=2e-2,Iy=10e-5,Iz=20e-5,J=5e-5,flag=False,position=5):    \n",
    "        self.coord=coord.reshape(len(coord)//3,3)\n",
    "        self.elcon=elcon\n",
    "        self.bc_u_elim=bc_u_elim\n",
    "        self.f_after_u_elim=f_after_u_elim\n",
    "        self.E=E\n",
    "        self.G=G\n",
    "        self.A=A\n",
    "        self.Iy=Iy\n",
    "        self.Iz=Iz\n",
    "        self.J=J\n",
    "        self.flag=flag\n",
    "        self.position=position\n",
    "        \n",
    "        \n",
    "    def FEA(self):\n",
    "        return FEA_u(self.coord, self.elcon, self.bc_u_elim, self.f_after_u_elim,\n",
    "                     self.E,self.G,self.A,self.Iy,self.Iz,self.J)\n",
    "    \n",
    "    def length(self):\n",
    "        return total_length(self.coord,self.elcon)\n",
    "    \n",
    "    def add_node(self):\n",
    "        tr_edges=triangle(self.elcon)\n",
    "        new_coord=mid_point_triangle(tr_edges,self.coord)\n",
    "        nc=new_connections(tr_edges,self.coord)\n",
    "        self.elcon=np.vstack((self.elcon, nc))\n",
    "        self.coord=np.vstack((self.coord, new_coord))\n",
    "        self.position=np.max(self.elcon)\n",
    "        self.bc_u_elim=self.bc_u_elim+list(range(max(self.bc_u_elim)+1,max(self.bc_u_elim)+6+1))\n",
    "        if len(self.coord//3)>=15:\n",
    "            self.flag=True    \n",
    "            \n",
    "    def del_node(self):\n",
    "        for i in range(3):\n",
    "            self.elcon=np.delete(self.elcon,(-1), axis=0)\n",
    "            \n",
    "        self.coord= np.delete(self.coord,(-1), axis=0) \n",
    "        \n",
    "        for i in range(6):\n",
    "            self.bc_u_elim.pop()\n",
    "        \n",
    "        if len(self.coord//3)<=6:\n",
    "            self.flag=True\n",
    "            \n",
    "    def node_up(self):\n",
    "        c=self.position\n",
    "        self.coord[c][1]+=0.2\n",
    "        if self.coord[c][1]>self.coord[1][1]-0.3:\n",
    "            self.flag=True\n",
    "    \n",
    "    def node_down(self):\n",
    "        c=self.position\n",
    "        self.coord[c][1]-=0.2\n",
    "        if self.coord[c][1]<self.coord[0][1]+0.3:\n",
    "            self.flag=True\n",
    "            \n",
    "    def node_left(self):\n",
    "        c=self.position\n",
    "        self.coord[c][0]-=0.2       \n",
    "        if self.coord[c][0]<self.coord[0][0]+0.3:\n",
    "            self.flag=True\n",
    "           \n",
    "    def node_right(self):\n",
    "        c=self.position\n",
    "        self.coord[c][0]+=0.2    \n",
    "        if self.coord[c][0]>self.coord[2][0]-0.3:\n",
    "            self.flag=True\n",
    "            \n",
    "    def nn_input(self):\n",
    "        A=pad(list(self.coord.flatten()),0,45)\n",
    "        A.append(self.position)\n",
    "        A.append(self.length())\n",
    "        A.append(self.FEA()[25])\n",
    "        return A\n",
    "    \n",
    "    def action_space(self,action):\n",
    "        if action==0:\n",
    "            self.add_node()\n",
    "        elif action==1:    \n",
    "            self.del_node()\n",
    "        elif action==2:  \n",
    "            self.node_up()\n",
    "        elif action==3:\n",
    "            self.node_down()\n",
    "        elif action==4:\n",
    "            self.node_left()\n",
    "        elif action==5:\n",
    "            self.node_right()\n",
    "        \n",
    "    def draw(self,color):\n",
    "        coord=self.coord.reshape(np.max(self.elcon)+1,3)\n",
    "        fig=plt.figure(figsize=(13,5))\n",
    "        for item in self.elcon:\n",
    "            ax = fig.gca(projection='3d') \n",
    "            ax.plot([coord[item[0]][0],coord[item[1]][0]],\\\n",
    "                     [coord[item[0]][1],coord[item[1]][1]],\\\n",
    "                     [coord[item[0]][2],coord[item[1]][2]],\n",
    "                     color=color) \n",
    "            ax.view_init(70,300) \n",
    "        plt.show()    "
   ]
  },
  {
   "cell_type": "markdown",
   "metadata": {},
   "source": [
    "## Neural Network Policy - Policy Gradients"
   ]
  },
  {
   "cell_type": "code",
   "execution_count": 14,
   "metadata": {
    "collapsed": true
   },
   "outputs": [],
   "source": [
    "n_inputs = 48 \n",
    "n_hidden = 100 \n",
    "n_outputs = 6 \n",
    "initializer = tf.contrib.layers.variance_scaling_initializer()\n",
    "\n",
    "learning_rate = 0.001\n",
    "\n",
    "# Build the neural network\n",
    "X_ = tf.placeholder(tf.float64, shape=[None, n_inputs], name=\"X_\")\n",
    "hidden = fully_connected(X_, n_hidden, activation_fn=tf.nn.elu, weights_initializer=initializer)\n",
    "hidden1 = fully_connected(hidden, n_hidden, activation_fn=tf.nn.elu, weights_initializer=initializer)\n",
    "# hidden2 = fully_connected(hidden1, n_hidden, activation_fn=tf.nn.elu, weights_initializer=initializer)\n",
    "logits = fully_connected(hidden1, n_outputs, activation_fn=None, weights_initializer=initializer)\n",
    "outputs = tf.nn.softmax(logits, name=\"Y_proba\")\n",
    "\n",
    "# Select a random action based on the estimated probabilities\n",
    "action = tf.random.multinomial(tf.log(outputs), num_samples=1,output_dtype=tf.int64)\n",
    "\n",
    "\n",
    "y=tf.reshape(tf.one_hot(action,depth=6,dtype=tf.float64),[6,1])\n",
    "xentropy = tf.nn.sigmoid_cross_entropy_with_logits(labels=y, logits=tf.transpose(logits))\n",
    "\n",
    "optimizer = tf.train.AdamOptimizer(learning_rate)\n",
    "grads_and_vars = optimizer.compute_gradients(xentropy)\n",
    "gradients = [grad for grad, variable in grads_and_vars]\n",
    "gradient_placeholders = []\n",
    "grads_and_vars_feed = []\n",
    "for grad, variable in grads_and_vars:\n",
    "    gradient_placeholder = tf.placeholder(tf.float64, shape=grad.get_shape())\n",
    "    gradient_placeholders.append(gradient_placeholder)\n",
    "    grads_and_vars_feed.append((gradient_placeholder, variable))\n",
    "\n",
    "training_op = optimizer.apply_gradients(grads_and_vars_feed)\n",
    "\n",
    "init = tf.global_variables_initializer()\n",
    "saver = tf.train.Saver()"
   ]
  },
  {
   "cell_type": "code",
   "execution_count": 15,
   "metadata": {
    "collapsed": true
   },
   "outputs": [],
   "source": [
    "def discount_rewards(rewards, discount_rate=0.97):\n",
    "    discounted_rewards = np.empty(len(rewards))\n",
    "    cumulative_rewards = 0\n",
    "    for step in reversed(range(len(rewards))):\n",
    "        cumulative_rewards = rewards[step] + cumulative_rewards * discount_rate\n",
    "        discounted_rewards[step] = cumulative_rewards\n",
    "    return discounted_rewards"
   ]
  },
  {
   "cell_type": "code",
   "execution_count": 16,
   "metadata": {
    "collapsed": true
   },
   "outputs": [],
   "source": [
    "def discount_and_normalize_rewards(all_rewards, discount_rate=0.97):\n",
    "    all_discounted_rewards = [discount_rewards(rewards) for rewards in all_rewards]\n",
    "    flat_rewards = np.concatenate(all_discounted_rewards)\n",
    "    reward_mean = flat_rewards.mean()\n",
    "    reward_std = flat_rewards.std()\n",
    "    return [(discounted_rewards - reward_mean)/reward_std for discounted_rewards in all_discounted_rewards]"
   ]
  },
  {
   "cell_type": "code",
   "execution_count": 17,
   "metadata": {
    "collapsed": true
   },
   "outputs": [],
   "source": [
    "# this function must be tailored to different FE models\n",
    "\n",
    "\n",
    "# def const(obs_,obs):\n",
    "#     a = (abs(obs_[-1]) - abs(obs[-1]))/abs(obs_[-1]) \n",
    "#     b = (abs(obs_[-2]) - abs(obs[-2]))/abs(obs_[-2])\n",
    "#     return a,b, a/b\n",
    "\n",
    "def reward_(obs_,obs): \n",
    "#     if  abs(obs_[-1]) < abs(obs[-1]) and 1.2*abs(obs_[-2])<abs(obs[-2]):\n",
    "#         return -0.1\n",
    "#     elif abs(obs_[-1])>abs(obs[-1]) and 1.2*abs(obs_[-2])<abs(obs[-2]):\n",
    "#         return 0.5\n",
    "#     elif abs(obs_[-1])>abs(obs[-1]) and 1.2*abs(obs_[-2])>abs(obs[-2]):\n",
    "#         return 1\n",
    "#     elif abs(obs_[-1]) < abs(obs[-1]):\n",
    "#         return -0.5\n",
    "#     else:\n",
    "#         return 0\n",
    "\n",
    "#     if abs(obs_[-1])>abs(obs[-1]) and abs(obs_[-2])>abs(obs[-2]):\n",
    "#         return 2\n",
    "#     elif abs(obs_[-1])>abs(obs[-1]):\n",
    "#         return 3\n",
    "#     elif abs(obs_[-2])>abs(obs[-2]):\n",
    "#         return 1\n",
    "#     else:\n",
    "#         return 0\n",
    "    \n",
    "    if abs(obs_[-1])>abs(obs[-1]):\n",
    "        return 1\n",
    "#     elif abs(obs_[-2])>abs(obs[-2]):\n",
    "#         return 1\n",
    "#     elif abs(obs_[-1])<abs(obs[-1]):\n",
    "#         return -100\n",
    "    else:\n",
    "        return 0\n",
    "\n",
    "#     if abs(obs_[-1]) >abs(obs[-1]):\n",
    "#         return 1\n",
    "#     elif abs(obs_[-2]) >abs(obs[-2]):\n",
    "#         return 1\n",
    "#     else:\n",
    "#         return 0\n",
    "#     a = (abs(obs_[-1]) - abs(obs[-1]))/abs(obs_[-1]) \n",
    "#     b = (abs(obs_[-2]) - abs(obs[-2]))/abs(obs_[-2])\n",
    "# #     C=2.8\n",
    "# #     C=random.choice([2.0,  2.8])\n",
    "# #     return a+C*b\n",
    "# #     return (2*C*a*b)/(a+C*b)\n",
    "#     return (2*a*b)/(a+b)"
   ]
  },
  {
   "cell_type": "code",
   "execution_count": 18,
   "metadata": {
    "collapsed": true
   },
   "outputs": [],
   "source": [
    "coord=np.array([0,0,0,0,7,0,7,7,0,7,0,0,3.5,3.5,0,4,4,0,3,4,0])\n",
    "elcon=np.array([[0,1],[1,2],[2,3],[0,3],[1,6],[2,6],[2,5],[4,5],[4,6],[0,4],[3,4],[3,5],[5,6],[0,6]])\n",
    "bc_u_elim=list(range(30,42))\n",
    "f_after_u_elim=[0,0,0,0,0,0,0,0,0,0,0,0,0,0,0,0,0,0,0,0,0,0,0,0,0,-500,0,0,0,0]"
   ]
  },
  {
   "cell_type": "code",
   "execution_count": 19,
   "metadata": {
    "collapsed": true
   },
   "outputs": [],
   "source": [
    "G=Geometry(coord,elcon,bc_u_elim,f_after_u_elim)"
   ]
  },
  {
   "cell_type": "code",
   "execution_count": 20,
   "metadata": {},
   "outputs": [
    {
     "name": "stdout",
     "output_type": "stream",
     "text": [
      "Time taken for 0 epoch 3.8898367881774902 sec\n",
      "\n",
      "Time taken for 10 epoch 17.266660928726196 sec\n",
      "\n",
      "Time taken for 20 epoch 30.587703704833984 sec\n",
      "\n",
      "Time taken for 30 epoch 45.2676899433136 sec\n",
      "\n",
      "Time taken for 40 epoch 59.18368101119995 sec\n",
      "\n",
      "Time taken for 50 epoch 75.5390317440033 sec\n",
      "\n",
      "Time taken for 60 epoch 89.63656401634216 sec\n",
      "\n",
      "Time taken for 70 epoch 104.24236965179443 sec\n",
      "\n",
      "Time taken for 80 epoch 119.68794178962708 sec\n",
      "\n",
      "Time taken for 90 epoch 134.438325881958 sec\n",
      "\n",
      "Time taken for 100 epoch 153.65546584129333 sec\n",
      "\n",
      "Time taken for 110 epoch 169.960844039917 sec\n",
      "\n",
      "Time taken for 120 epoch 184.08672785758972 sec\n",
      "\n",
      "Time taken for 130 epoch 198.81799602508545 sec\n",
      "\n",
      "Time taken for 140 epoch 266.2351429462433 sec\n",
      "\n",
      "Time taken for 150 epoch 310.0831458568573 sec\n",
      "\n",
      "Time taken for 160 epoch 357.42353987693787 sec\n",
      "\n",
      "Time taken for 170 epoch 434.98671889305115 sec\n",
      "\n",
      "Time taken for 180 epoch 454.16703176498413 sec\n",
      "\n",
      "Time taken for 190 epoch 485.1989288330078 sec\n",
      "\n",
      "Time taken for 200 epoch 517.955080986023 sec\n",
      "\n",
      "Time taken for 210 epoch 534.6417338848114 sec\n",
      "\n",
      "Time taken for 220 epoch 553.5660507678986 sec\n",
      "\n",
      "Time taken for 230 epoch 620.4869499206543 sec\n",
      "\n",
      "Time taken for 240 epoch 669.7447578907013 sec\n",
      "\n",
      "Time taken for 250 epoch 760.6567978858948 sec\n",
      "\n"
     ]
    }
   ],
   "source": [
    "n_iterations = 251 #251 # number of training iterations\n",
    "n_max_steps = 500 # max steps per episode\n",
    "n_games_per_update = 10 # train the policy every 10 episodes\n",
    "save_iterations = 10 # save the model every 10 training iterations\n",
    "\n",
    "\n",
    "with tf.Session() as sess:\n",
    "    start=time.time()\n",
    "    init.run() \n",
    "    \n",
    "#     saver.restore(sess, tf.train.latest_checkpoint(\"./policy10/\"))    \n",
    "#     tf.get_default_graph()\n",
    "    \n",
    "    for iteration in range(n_iterations):\n",
    "               \n",
    "        all_rewards = [] # all sequences of raw rewards for each episode\n",
    "        all_gradients = [] # gradients saved at each step of each episode\n",
    "        \n",
    "        \n",
    "        for game in range(n_games_per_update):\n",
    "            tf.random.set_random_seed(game)\n",
    "#             init.run() # !!!!!!!!!!!!!!!!!!!!!!!!!!!!!!!!!!!!!!!!!!!!!!!!!!!!!!!!!!!!!!\n",
    "            current_rewards = [] # all raw rewards from the current episode\n",
    "            current_gradients = [] # all gradients from the current episode\n",
    "    \n",
    "            G.reset(np.array([0,0,0,0,7,0,7,7,0,7,0,0,3.5,3.5,0,4,4,0,3,4,0]),\\\n",
    "            np.array([[0,1],[1,2],[2,3],[0,3],[1,6],[2,6],[2,5],[4,5],[4,6],[0,4],[3,4],[3,5],[5,6],[0,6]]),\\\n",
    "            list(range(30,42)),[0,0,0,0,0,0,0,0,0,0,0,0,0,0,0,0,0,0,0,0,0,0,0,0,0,-500,0,0,0,0])\n",
    "   \n",
    "            \n",
    "            G.position = random.randint(5,np.max(G.elcon))\n",
    "            obs=G.nn_input()\n",
    "    \n",
    "            \n",
    "            for step in range(n_max_steps):\n",
    "                \n",
    "                action_val, gradients_val = sess.run([action, gradients],\n",
    "                                                     feed_dict={X_: np.array(obs).reshape(1,n_inputs)}) \n",
    "                obs_=obs \n",
    "                              \n",
    "                G.action_space(action_val[0][0])\n",
    "                \n",
    "                if G.flag:\n",
    "                    break\n",
    "                \n",
    "#                 print(action_val[0][0]) \n",
    "                obs=G.nn_input()\n",
    "                reward=reward_(obs_,obs)\n",
    "                \n",
    "                if action_val[0][0]!=0:\n",
    "                    G.position = random.randint(5,np.max(G.elcon))\n",
    "                \n",
    "                current_rewards.append(reward)\n",
    "                current_gradients.append(gradients_val)\n",
    "\n",
    "            all_rewards.append(current_rewards)\n",
    "            all_gradients.append(current_gradients)\n",
    "\n",
    "    \n",
    "            \n",
    "        # At this point we have run the policy for 10 episodes, and we are\n",
    "        # ready for a policy update using the algorithm described earlier.\n",
    "        all_rewards = discount_and_normalize_rewards(all_rewards)\n",
    "        \n",
    "        \n",
    "        \n",
    "        feed_dict = {}\n",
    "        for var_index, grad_placeholder in enumerate(gradient_placeholders):\n",
    "            # multiply the gradients by the action scores, and compute the mean\n",
    "            mean_gradients = np.mean([reward * all_gradients[game_index][step][var_index] \n",
    "                                      for game_index, rewards in enumerate(all_rewards)\n",
    "                                      for step, reward in enumerate(rewards)],axis=0)\n",
    "            feed_dict[grad_placeholder] = mean_gradients\n",
    "        \n",
    "        \n",
    "        sess.run(training_op, feed_dict=feed_dict)\n",
    "        \n",
    "        if iteration % save_iterations == 0:\n",
    "#             print(\"Saving {} iteration\".format(iteration))\n",
    "            print('Time taken for {} epoch {} sec\\n'.format(iteration, time.time() - start))\n",
    "            saver.save(sess, \"./policy11/bionic11.ckpt\")\n",
    "\n",
    "# end=time.time()"
   ]
  },
  {
   "cell_type": "markdown",
   "metadata": {},
   "source": [
    "## AI designing the bionic partition"
   ]
  },
  {
   "cell_type": "code",
   "execution_count": 21,
   "metadata": {
    "collapsed": true
   },
   "outputs": [],
   "source": [
    "def predict(G2):\n",
    "    with tf.Session() as sess:\n",
    "        saver = tf.train.import_meta_graph('./policy11/bionic11.ckpt.meta')\n",
    "        saver.restore(sess, \"./policy11/bionic11.ckpt\") \n",
    "\n",
    "        graph = tf.get_default_graph()\n",
    "        outputs = graph.get_tensor_by_name(\"Y_proba:0\") \n",
    "        X_ = graph.get_tensor_by_name(\"X_:0\") \n",
    "                \n",
    "        G2.reset(np.array([0,0,0,0,7,0,7,7,0,7,0,0,3.5,3.5,0,4,4,0,3,4,0]),\\\n",
    "        np.array([[0,1],[1,2],[2,3],[0,3],[1,6],[2,6],[2,5],[4,5],[4,6],[0,4],[3,4],[3,5],[5,6],[0,6]]),\\\n",
    "        list(range(30,42)),[0,0,0,0,0,0,0,0,0,0,0,0,0,0,0,0,0,0,0,0,0,0,0,0,0,-500,0,0,0,0])    \n",
    "    \n",
    "        G2.position = random.randint(5,np.max(G2.elcon))\n",
    "        \n",
    "        obs=G2.nn_input()\n",
    "        \n",
    "        for step in range(50):\n",
    "            action_val= sess.run([outputs],feed_dict={X_: np.array(obs).reshape(1,n_inputs)})\n",
    "            \n",
    "            print(np.argmax(action_val))\n",
    "            G2.action_space(np.argmax(action_val))\n",
    "            \n",
    "            \n",
    "                \n",
    "            if G2.flag:\n",
    "                obs=G2.nn_input()\n",
    "                break                     \n",
    "            \n",
    "            obs=G2.nn_input()\n",
    "            print(obs[-1])\n",
    "            \n",
    "            G2.position = random.randint(5,np.max(G2.elcon))\n",
    "\n",
    "        G2.draw('blue')\n",
    "        \n",
    "        return obs[-1], obs[-2]"
   ]
  },
  {
   "cell_type": "code",
   "execution_count": 22,
   "metadata": {
    "collapsed": true
   },
   "outputs": [],
   "source": [
    "coord=np.array([0,0,0,0,7,0,7,7,0,7,0,0,3.5,3.5,0,4,4,0,3,4,0])\n",
    "elcon=np.array([[0,1],[1,2],[2,3],[0,3],[1,6],[2,6],[2,5],[4,5],[4,6],[0,4],[3,4],[3,5],[5,6],[0,6]])\n",
    "bc_u_elim=list(range(30,42))\n",
    "f_after_u_elim=[0,0,0,0,0,0,0,0,0,0,0,0,0,0,0,0,0,0,0,0,0,0,0,0,0,-500,0,0,0,0]"
   ]
  },
  {
   "cell_type": "code",
   "execution_count": 23,
   "metadata": {
    "collapsed": true
   },
   "outputs": [],
   "source": [
    "G3=Geometry(coord,elcon,bc_u_elim,f_after_u_elim)"
   ]
  },
  {
   "cell_type": "code",
   "execution_count": 24,
   "metadata": {},
   "outputs": [
    {
     "data": {
      "image/png": "[encoded data removed]",
      "text/plain": [
       "<matplotlib.figure.Figure at 0x12aaa30f0>"
      ]
     },
     "metadata": {},
     "output_type": "display_data"
    }
   ],
   "source": [
    "G3.draw('green')"
   ]
  },
  {
   "cell_type": "code",
   "execution_count": 25,
   "metadata": {
    "collapsed": true
   },
   "outputs": [],
   "source": [
    "pr=G3.nn_input()"
   ]
  },
  {
   "cell_type": "code",
   "execution_count": 26,
   "metadata": {},
   "outputs": [
    {
     "data": {
      "text/plain": [
       "(-6.337540351289916e-05, 63.79898987322332)"
      ]
     },
     "execution_count": 26,
     "metadata": {},
     "output_type": "execute_result"
    }
   ],
   "source": [
    "pr[-1],pr[-2]"
   ]
  },
  {
   "cell_type": "code",
   "execution_count": 27,
   "metadata": {
    "collapsed": true
   },
   "outputs": [],
   "source": [
    "# G3.add_node()\n",
    "# G3.add_node()\n",
    "# G3.add_node()\n",
    "# G3.add_node()\n",
    "# G3.add_node()\n",
    "# G3.add_node()\n",
    "# G3.add_node()\n",
    "# G3.add_node()"
   ]
  },
  {
   "cell_type": "code",
   "execution_count": 28,
   "metadata": {},
   "outputs": [
    {
     "name": "stdout",
     "output_type": "stream",
     "text": [
      "INFO:tensorflow:Restoring parameters from ./policy11/pinjointed11.ckpt\n",
      "0\n",
      "-6.336467946681583e-05\n",
      "0\n",
      "-5.132449913592278e-05\n",
      "0\n",
      "-5.1091590775081e-05\n",
      "0\n",
      "-5.0788789426222514e-05\n",
      "0\n",
      "-5.078848212350519e-05\n",
      "0\n",
      "-5.071329820317819e-05\n",
      "3\n",
      "-5.070943845424897e-05\n",
      "3\n",
      "-5.1457785309497754e-05\n",
      "0\n",
      "-5.141878194722518e-05\n",
      "3\n",
      "-5.141895271164506e-05\n",
      "3\n",
      "-5.141573814136793e-05\n",
      "3\n",
      "-5.141584638970229e-05\n",
      "3\n",
      "-5.141609633013842e-05\n",
      "3\n",
      "-5.141341256647128e-05\n",
      "3\n",
      "-5.154811525701697e-05\n",
      "3\n",
      "-5.299526098831735e-05\n",
      "3\n",
      "-5.0439417349465665e-05\n",
      "3\n",
      "-5.3005595164471104e-05\n",
      "3\n",
      "-5.3000797002312306e-05\n",
      "3\n",
      "-5.299603753473121e-05\n",
      "3\n",
      "-4.9311461971954305e-05\n",
      "3\n",
      "-4.991297358111392e-05\n",
      "3\n",
      "-5.044647777624874e-05\n",
      "3\n",
      "-5.0443351807269194e-05\n",
      "3\n",
      "-5.043978617818068e-05\n",
      "3\n",
      "-4.959554516318641e-05\n",
      "3\n",
      "-4.959239304167386e-05\n",
      "3\n",
      "-4.95893240256822e-05\n",
      "3\n",
      "-4.958949254386273e-05\n",
      "3\n",
      "-4.958596207739216e-05\n",
      "3\n",
      "-4.958607320555143e-05\n",
      "3\n",
      "-4.9586219602773624e-05\n",
      "3\n",
      "-4.958630944597929e-05\n",
      "3\n",
      "-4.9586347236785775e-05\n",
      "3\n",
      "-4.9583452147021215e-05\n",
      "3\n",
      "-4.958011335818321e-05\n",
      "3\n",
      "-5.1569437656932126e-05\n",
      "3\n",
      "-5.207132510804009e-05\n",
      "3\n",
      "-5.2071485081147074e-05\n",
      "3\n"
     ]
    },
    {
     "data": {
      "image/png": "[encoded data removed]",
      "text/plain": [
       "<matplotlib.figure.Figure at 0x12ee55128>"
      ]
     },
     "metadata": {},
     "output_type": "display_data"
    },
    {
     "data": {
      "text/plain": [
       "(-5.2523215437755016e-05, 131.44076755260153)"
      ]
     },
     "execution_count": 28,
     "metadata": {},
     "output_type": "execute_result"
    }
   ],
   "source": [
    "predict(G3)"
   ]
  },
  {
   "cell_type": "code",
   "execution_count": null,
   "metadata": {
    "collapsed": true
   },
   "outputs": [],
   "source": []
  }
 ],
 "metadata": {
  "kernelspec": {
   "display_name": "Python 3",
   "language": "python",
   "name": "python3"
  },
  "language_info": {
   "codemirror_mode": {
    "name": "ipython",
    "version": 3
   },
   "file_extension": ".py",
   "mimetype": "text/x-python",
   "name": "python",
   "nbconvert_exporter": "python",
   "pygments_lexer": "ipython3",
   "version": "3.6.5"
  }
 },
 "nbformat": 4,
 "nbformat_minor": 2
}
